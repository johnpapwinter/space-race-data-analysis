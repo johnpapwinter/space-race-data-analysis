{
 "cells": [
  {
   "cell_type": "markdown",
   "metadata": {
    "id": "ka_FkvXBiABo"
   },
   "source": [
    "# Introduction"
   ]
  },
  {
   "cell_type": "markdown",
   "metadata": {
    "id": "AWaMmfxXa-p0",
    "papermill": {
     "duration": 0.035434,
     "end_time": "2020-10-20T21:34:01.886225",
     "exception": false,
     "start_time": "2020-10-20T21:34:01.850791",
     "status": "completed"
    },
    "tags": []
   },
   "source": [
    "<center><img src=\"https://i.imgur.com/9hLRsjZ.jpg\" height=400></center>\n",
    "\n",
    "This dataset was scraped from [nextspaceflight.com](https://nextspaceflight.com/launches/past/?page=1) and includes all the space missions since the beginning of Space Race between the USA and the Soviet Union in 1957!"
   ]
  },
  {
   "cell_type": "markdown",
   "metadata": {
    "id": "ufzKRKS3bV0r"
   },
   "source": [
    "### Install Package with Country Codes"
   ]
  },
  {
   "cell_type": "code",
   "execution_count": 1,
   "metadata": {
    "colab": {
     "base_uri": "https://localhost:8080/"
    },
    "id": "0HxV9o6dbRUE",
    "outputId": "35464d43-d601-4b8f-81fd-6dbd400167f5"
   },
   "outputs": [
    {
     "name": "stdout",
     "output_type": "stream",
     "text": [
      "Requirement already satisfied: iso3166 in d:\\coding training\\practice_projects\\pandas-training\\lib\\site-packages (2.1.1)\n",
      "Note: you may need to restart the kernel to use updated packages.\n"
     ]
    },
    {
     "name": "stderr",
     "output_type": "stream",
     "text": [
      "\n",
      "[notice] A new release of pip available: 22.3.1 -> 23.2.1\n",
      "[notice] To update, run: python.exe -m pip install --upgrade pip\n"
     ]
    }
   ],
   "source": [
    "%pip install iso3166"
   ]
  },
  {
   "cell_type": "markdown",
   "metadata": {
    "id": "sghkhFoLbof8"
   },
   "source": [
    "### Upgrade Plotly\n",
    "\n",
    "Run the cell below if you are working with Google Colab."
   ]
  },
  {
   "cell_type": "code",
   "execution_count": null,
   "metadata": {
    "colab": {
     "base_uri": "https://localhost:8080/"
    },
    "id": "gQ61wy9gbmxd",
    "outputId": "99185d87-acb8-4237-c0f7-bfb18bfd4d39"
   },
   "outputs": [
    {
     "name": "stdout",
     "output_type": "stream",
     "text": [
      "Requirement already up-to-date: plotly in /usr/local/lib/python3.6/dist-packages (4.12.0)\n",
      "Requirement already satisfied, skipping upgrade: six in /usr/local/lib/python3.6/dist-packages (from plotly) (1.15.0)\n",
      "Requirement already satisfied, skipping upgrade: retrying>=1.3.3 in /usr/local/lib/python3.6/dist-packages (from plotly) (1.3.3)\n"
     ]
    }
   ],
   "source": [
    "%pip install --upgrade plotly"
   ]
  },
  {
   "cell_type": "markdown",
   "metadata": {
    "id": "ErFDBihUi1jN"
   },
   "source": [
    "### Import Statements"
   ]
  },
  {
   "cell_type": "code",
   "execution_count": 2,
   "metadata": {
    "_cell_guid": "b1076dfc-b9ad-4769-8c92-a6c4dae69d19",
    "_kg_hide-input": true,
    "_kg_hide-output": true,
    "_uuid": "8f2839f25d086af736a60e9eeb907d3b93b6e0e5",
    "colab": {
     "base_uri": "https://localhost:8080/"
    },
    "id": "xdolY0-Sa-p1",
    "outputId": "7142dedb-82e9-457d-db44-cea4e121bdfe",
    "papermill": {
     "duration": 1.665326,
     "end_time": "2020-10-20T21:34:03.726995",
     "exception": false,
     "start_time": "2020-10-20T21:34:02.061669",
     "status": "completed"
    },
    "tags": []
   },
   "outputs": [],
   "source": [
    "import numpy as np\n",
    "import pandas as pd\n",
    "import plotly.express as px\n",
    "import matplotlib.pyplot as plt\n",
    "import seaborn as sns\n",
    "\n",
    "# These might be helpful:\n",
    "from iso3166 import countries\n",
    "from datetime import datetime, timedelta"
   ]
  },
  {
   "cell_type": "markdown",
   "metadata": {
    "id": "lovGPRgKxIgo"
   },
   "source": [
    "### Notebook Presentation"
   ]
  },
  {
   "cell_type": "code",
   "execution_count": 3,
   "metadata": {
    "id": "DHEULCOjxIIm"
   },
   "outputs": [],
   "source": [
    "pd.options.display.float_format = '{:,.2f}'.format"
   ]
  },
  {
   "cell_type": "markdown",
   "metadata": {
    "id": "yaT3QbjEa-p4",
    "papermill": {
     "duration": 0.034606,
     "end_time": "2020-10-20T21:34:03.798396",
     "exception": false,
     "start_time": "2020-10-20T21:34:03.763790",
     "status": "completed"
    },
    "tags": []
   },
   "source": [
    "### Load the Data"
   ]
  },
  {
   "cell_type": "code",
   "execution_count": 4,
   "metadata": {
    "_cell_guid": "79c7e3d0-c299-4dcb-8224-4455121ee9b0",
    "_kg_hide-input": true,
    "_uuid": "d629ff2d2480ee46fbb7e2d37f6b5fab8052498a",
    "id": "0lDOu8aka-p4",
    "papermill": {
     "duration": 0.08876,
     "end_time": "2020-10-20T21:34:03.922028",
     "exception": false,
     "start_time": "2020-10-20T21:34:03.833268",
     "status": "completed"
    },
    "tags": []
   },
   "outputs": [],
   "source": [
    "df_data = pd.read_csv('launchdata.csv')"
   ]
  },
  {
   "cell_type": "code",
   "execution_count": 4,
   "metadata": {},
   "outputs": [],
   "source": [
    "data_types = {\n",
    "    'date': 'datetime64',\n",
    "    'price': 'float64'\n",
    "}\n",
    "df = pd.read_csv('launchdata.csv', parse_dates=['date'])"
   ]
  },
  {
   "cell_type": "code",
   "execution_count": 5,
   "metadata": {},
   "outputs": [],
   "source": [
    "df['price'] = df['price'].str.replace(',', '').astype(float)"
   ]
  },
  {
   "cell_type": "code",
   "execution_count": 38,
   "metadata": {},
   "outputs": [
    {
     "data": {
      "text/plain": [
       "date              datetime64[ns]\n",
       "location                  object\n",
       "mission_name              object\n",
       "mission_status            object\n",
       "organization              object\n",
       "price                    float64\n",
       "rocket_name               object\n",
       "rocket_status             object\n",
       "dtype: object"
      ]
     },
     "execution_count": 38,
     "metadata": {},
     "output_type": "execute_result"
    }
   ],
   "source": [
    "df.dtypes"
   ]
  },
  {
   "cell_type": "markdown",
   "metadata": {
    "id": "jAnMiVcVjuKB"
   },
   "source": [
    "# Preliminary Data Exploration\n",
    "\n",
    "* What is the shape of `df_data`? \n",
    "* How many rows and columns does it have?\n",
    "* What are the column names?\n",
    "* Are there any NaN values or duplicates?"
   ]
  },
  {
   "cell_type": "code",
   "execution_count": 17,
   "metadata": {
    "id": "0tIuYcYNlPFQ"
   },
   "outputs": [
    {
     "name": "stdout",
     "output_type": "stream",
     "text": [
      "Shape of the dataframe: (6578, 8)\n",
      "Number of rows: 6578\n",
      "Number of columns: 8\n",
      "\n",
      "Columns in the dataframe: Index(['date', 'location', 'mission_name', 'mission_status', 'organization',\n",
      "       'price', 'rocket_name', 'rocket_status'],\n",
      "      dtype='object')\n"
     ]
    }
   ],
   "source": [
    "print(f'Shape of the dataframe: {df_data.shape}')\n",
    "print(f'Number of rows: {df_data.shape[0]}')\n",
    "print(f'Number of columns: {df_data.shape[1]}')\n",
    "print(f'\\nColumns in the dataframe: {df_data.columns}')\n",
    "# for column in df_data.columns:\n",
    "#     print(column)"
   ]
  },
  {
   "cell_type": "code",
   "execution_count": 19,
   "metadata": {
    "id": "0dw2hd9UlPmP"
   },
   "outputs": [
    {
     "name": "stdout",
     "output_type": "stream",
     "text": [
      "Empty DataFrame\n",
      "Columns: [date, location, mission_name, mission_status, organization, price, rocket_name, rocket_status]\n",
      "Index: []\n",
      "date                 0\n",
      "location             0\n",
      "mission_name         0\n",
      "mission_status       0\n",
      "organization         0\n",
      "price             3996\n",
      "rocket_name          0\n",
      "rocket_status        0\n",
      "dtype: int64\n"
     ]
    }
   ],
   "source": [
    "duplicate_rows = df_data[df_data.duplicated()]\n",
    "print(duplicate_rows)\n",
    "\n",
    "# check how many values are null in the df\n",
    "print(df_data.isnull().sum())"
   ]
  },
  {
   "cell_type": "code",
   "execution_count": 20,
   "metadata": {},
   "outputs": [
    {
     "data": {
      "text/html": [
       "<div>\n",
       "<style scoped>\n",
       "    .dataframe tbody tr th:only-of-type {\n",
       "        vertical-align: middle;\n",
       "    }\n",
       "\n",
       "    .dataframe tbody tr th {\n",
       "        vertical-align: top;\n",
       "    }\n",
       "\n",
       "    .dataframe thead th {\n",
       "        text-align: right;\n",
       "    }\n",
       "</style>\n",
       "<table border=\"1\" class=\"dataframe\">\n",
       "  <thead>\n",
       "    <tr style=\"text-align: right;\">\n",
       "      <th></th>\n",
       "      <th>date</th>\n",
       "      <th>location</th>\n",
       "      <th>mission_name</th>\n",
       "      <th>mission_status</th>\n",
       "      <th>organization</th>\n",
       "      <th>price</th>\n",
       "      <th>rocket_name</th>\n",
       "      <th>rocket_status</th>\n",
       "    </tr>\n",
       "  </thead>\n",
       "  <tbody>\n",
       "    <tr>\n",
       "      <th>0</th>\n",
       "      <td>False</td>\n",
       "      <td>False</td>\n",
       "      <td>False</td>\n",
       "      <td>False</td>\n",
       "      <td>False</td>\n",
       "      <td>True</td>\n",
       "      <td>False</td>\n",
       "      <td>False</td>\n",
       "    </tr>\n",
       "    <tr>\n",
       "      <th>1</th>\n",
       "      <td>False</td>\n",
       "      <td>False</td>\n",
       "      <td>False</td>\n",
       "      <td>False</td>\n",
       "      <td>False</td>\n",
       "      <td>False</td>\n",
       "      <td>False</td>\n",
       "      <td>False</td>\n",
       "    </tr>\n",
       "    <tr>\n",
       "      <th>2</th>\n",
       "      <td>False</td>\n",
       "      <td>False</td>\n",
       "      <td>False</td>\n",
       "      <td>False</td>\n",
       "      <td>False</td>\n",
       "      <td>True</td>\n",
       "      <td>False</td>\n",
       "      <td>False</td>\n",
       "    </tr>\n",
       "    <tr>\n",
       "      <th>3</th>\n",
       "      <td>False</td>\n",
       "      <td>False</td>\n",
       "      <td>False</td>\n",
       "      <td>False</td>\n",
       "      <td>False</td>\n",
       "      <td>False</td>\n",
       "      <td>False</td>\n",
       "      <td>False</td>\n",
       "    </tr>\n",
       "    <tr>\n",
       "      <th>4</th>\n",
       "      <td>False</td>\n",
       "      <td>False</td>\n",
       "      <td>False</td>\n",
       "      <td>False</td>\n",
       "      <td>False</td>\n",
       "      <td>False</td>\n",
       "      <td>False</td>\n",
       "      <td>False</td>\n",
       "    </tr>\n",
       "    <tr>\n",
       "      <th>...</th>\n",
       "      <td>...</td>\n",
       "      <td>...</td>\n",
       "      <td>...</td>\n",
       "      <td>...</td>\n",
       "      <td>...</td>\n",
       "      <td>...</td>\n",
       "      <td>...</td>\n",
       "      <td>...</td>\n",
       "    </tr>\n",
       "    <tr>\n",
       "      <th>6573</th>\n",
       "      <td>False</td>\n",
       "      <td>False</td>\n",
       "      <td>False</td>\n",
       "      <td>False</td>\n",
       "      <td>False</td>\n",
       "      <td>False</td>\n",
       "      <td>False</td>\n",
       "      <td>False</td>\n",
       "    </tr>\n",
       "    <tr>\n",
       "      <th>6574</th>\n",
       "      <td>False</td>\n",
       "      <td>False</td>\n",
       "      <td>False</td>\n",
       "      <td>False</td>\n",
       "      <td>False</td>\n",
       "      <td>False</td>\n",
       "      <td>False</td>\n",
       "      <td>False</td>\n",
       "    </tr>\n",
       "    <tr>\n",
       "      <th>6575</th>\n",
       "      <td>False</td>\n",
       "      <td>False</td>\n",
       "      <td>False</td>\n",
       "      <td>False</td>\n",
       "      <td>False</td>\n",
       "      <td>False</td>\n",
       "      <td>False</td>\n",
       "      <td>False</td>\n",
       "    </tr>\n",
       "    <tr>\n",
       "      <th>6576</th>\n",
       "      <td>False</td>\n",
       "      <td>False</td>\n",
       "      <td>False</td>\n",
       "      <td>False</td>\n",
       "      <td>False</td>\n",
       "      <td>False</td>\n",
       "      <td>False</td>\n",
       "      <td>False</td>\n",
       "    </tr>\n",
       "    <tr>\n",
       "      <th>6577</th>\n",
       "      <td>False</td>\n",
       "      <td>False</td>\n",
       "      <td>False</td>\n",
       "      <td>False</td>\n",
       "      <td>False</td>\n",
       "      <td>False</td>\n",
       "      <td>False</td>\n",
       "      <td>False</td>\n",
       "    </tr>\n",
       "  </tbody>\n",
       "</table>\n",
       "<p>6578 rows × 8 columns</p>\n",
       "</div>"
      ],
      "text/plain": [
       "       date  location  mission_name  mission_status  organization  price  \\\n",
       "0     False     False         False           False         False   True   \n",
       "1     False     False         False           False         False  False   \n",
       "2     False     False         False           False         False   True   \n",
       "3     False     False         False           False         False  False   \n",
       "4     False     False         False           False         False  False   \n",
       "...     ...       ...           ...             ...           ...    ...   \n",
       "6573  False     False         False           False         False  False   \n",
       "6574  False     False         False           False         False  False   \n",
       "6575  False     False         False           False         False  False   \n",
       "6576  False     False         False           False         False  False   \n",
       "6577  False     False         False           False         False  False   \n",
       "\n",
       "      rocket_name  rocket_status  \n",
       "0           False          False  \n",
       "1           False          False  \n",
       "2           False          False  \n",
       "3           False          False  \n",
       "4           False          False  \n",
       "...           ...            ...  \n",
       "6573        False          False  \n",
       "6574        False          False  \n",
       "6575        False          False  \n",
       "6576        False          False  \n",
       "6577        False          False  \n",
       "\n",
       "[6578 rows x 8 columns]"
      ]
     },
     "execution_count": 20,
     "metadata": {},
     "output_type": "execute_result"
    }
   ],
   "source": [
    "df_data.isna()"
   ]
  },
  {
   "cell_type": "markdown",
   "metadata": {
    "id": "KUN30y6ja-p9",
    "papermill": {
     "duration": 0.05406,
     "end_time": "2020-10-20T21:34:04.149973",
     "exception": false,
     "start_time": "2020-10-20T21:34:04.095913",
     "status": "completed"
    },
    "tags": []
   },
   "source": [
    "## Data Cleaning - Check for Missing Values and Duplicates\n",
    "\n",
    "Consider removing columns containing junk data. "
   ]
  },
  {
   "cell_type": "code",
   "execution_count": null,
   "metadata": {
    "id": "wWQvnJb0k2Ig"
   },
   "outputs": [],
   "source": []
  },
  {
   "cell_type": "code",
   "execution_count": null,
   "metadata": {
    "id": "SfxVooCYk2As"
   },
   "outputs": [],
   "source": []
  },
  {
   "cell_type": "markdown",
   "metadata": {
    "id": "QHon_T5sa-p_",
    "papermill": {
     "duration": 0.036712,
     "end_time": "2020-10-20T21:34:05.227032",
     "exception": false,
     "start_time": "2020-10-20T21:34:05.190320",
     "status": "completed"
    },
    "tags": []
   },
   "source": [
    "## Descriptive Statistics"
   ]
  },
  {
   "cell_type": "code",
   "execution_count": 21,
   "metadata": {
    "id": "Fh1-libjkJIK"
   },
   "outputs": [
    {
     "data": {
      "text/html": [
       "<div>\n",
       "<style scoped>\n",
       "    .dataframe tbody tr th:only-of-type {\n",
       "        vertical-align: middle;\n",
       "    }\n",
       "\n",
       "    .dataframe tbody tr th {\n",
       "        vertical-align: top;\n",
       "    }\n",
       "\n",
       "    .dataframe thead th {\n",
       "        text-align: right;\n",
       "    }\n",
       "</style>\n",
       "<table border=\"1\" class=\"dataframe\">\n",
       "  <thead>\n",
       "    <tr style=\"text-align: right;\">\n",
       "      <th></th>\n",
       "      <th>date</th>\n",
       "      <th>location</th>\n",
       "      <th>mission_name</th>\n",
       "      <th>mission_status</th>\n",
       "      <th>organization</th>\n",
       "      <th>price</th>\n",
       "      <th>rocket_name</th>\n",
       "      <th>rocket_status</th>\n",
       "    </tr>\n",
       "  </thead>\n",
       "  <tbody>\n",
       "    <tr>\n",
       "      <th>count</th>\n",
       "      <td>6578</td>\n",
       "      <td>6578</td>\n",
       "      <td>6578</td>\n",
       "      <td>6578</td>\n",
       "      <td>6578</td>\n",
       "      <td>2582</td>\n",
       "      <td>6578</td>\n",
       "      <td>6578</td>\n",
       "    </tr>\n",
       "    <tr>\n",
       "      <th>unique</th>\n",
       "      <td>6577</td>\n",
       "      <td>743</td>\n",
       "      <td>6525</td>\n",
       "      <td>4</td>\n",
       "      <td>64</td>\n",
       "      <td>68</td>\n",
       "      <td>434</td>\n",
       "      <td>2</td>\n",
       "    </tr>\n",
       "    <tr>\n",
       "      <th>top</th>\n",
       "      <td>2019-02-05 21:01:00</td>\n",
       "      <td>Site 1/5, Baikonur Cosmodrome, Kazakhstan</td>\n",
       "      <td>Resurs-F</td>\n",
       "      <td>Success</td>\n",
       "      <td>RVSN USSR</td>\n",
       "      <td>20.0</td>\n",
       "      <td>Soyuz U</td>\n",
       "      <td>Retired</td>\n",
       "    </tr>\n",
       "    <tr>\n",
       "      <th>freq</th>\n",
       "      <td>2</td>\n",
       "      <td>483</td>\n",
       "      <td>20</td>\n",
       "      <td>6021</td>\n",
       "      <td>2464</td>\n",
       "      <td>801</td>\n",
       "      <td>778</td>\n",
       "      <td>5208</td>\n",
       "    </tr>\n",
       "  </tbody>\n",
       "</table>\n",
       "</div>"
      ],
      "text/plain": [
       "                       date                                   location  \\\n",
       "count                  6578                                       6578   \n",
       "unique                 6577                                        743   \n",
       "top     2019-02-05 21:01:00  Site 1/5, Baikonur Cosmodrome, Kazakhstan   \n",
       "freq                      2                                        483   \n",
       "\n",
       "       mission_name mission_status organization price rocket_name  \\\n",
       "count          6578           6578         6578  2582        6578   \n",
       "unique         6525              4           64    68         434   \n",
       "top        Resurs-F        Success    RVSN USSR  20.0     Soyuz U   \n",
       "freq             20           6021         2464   801         778   \n",
       "\n",
       "       rocket_status  \n",
       "count           6578  \n",
       "unique             2  \n",
       "top          Retired  \n",
       "freq            5208  "
      ]
     },
     "execution_count": 21,
     "metadata": {},
     "output_type": "execute_result"
    }
   ],
   "source": [
    "df_data.describe()"
   ]
  },
  {
   "cell_type": "code",
   "execution_count": 27,
   "metadata": {},
   "outputs": [
    {
     "data": {
      "text/plain": [
       "array(['Success', 'Failure', 'Partial Failure', 'Prelaunch Failure'],\n",
       "      dtype=object)"
      ]
     },
     "execution_count": 27,
     "metadata": {},
     "output_type": "execute_result"
    }
   ],
   "source": [
    "# df_data['price'] = df_data['price'].astype(float)\n",
    "df_data['mission_status'].unique()"
   ]
  },
  {
   "cell_type": "code",
   "execution_count": 6,
   "metadata": {},
   "outputs": [
    {
     "data": {
      "text/plain": [
       "date              datetime64[ns]\n",
       "location                  object\n",
       "mission_name              object\n",
       "mission_status            object\n",
       "organization              object\n",
       "price                    float64\n",
       "rocket_name               object\n",
       "rocket_status             object\n",
       "dtype: object"
      ]
     },
     "execution_count": 6,
     "metadata": {},
     "output_type": "execute_result"
    }
   ],
   "source": [
    "df.dtypes"
   ]
  },
  {
   "cell_type": "code",
   "execution_count": 9,
   "metadata": {
    "id": "dGZa5HdbkJBT"
   },
   "outputs": [
    {
     "data": {
      "text/html": [
       "<div>\n",
       "<style scoped>\n",
       "    .dataframe tbody tr th:only-of-type {\n",
       "        vertical-align: middle;\n",
       "    }\n",
       "\n",
       "    .dataframe tbody tr th {\n",
       "        vertical-align: top;\n",
       "    }\n",
       "\n",
       "    .dataframe thead th {\n",
       "        text-align: right;\n",
       "    }\n",
       "</style>\n",
       "<table border=\"1\" class=\"dataframe\">\n",
       "  <thead>\n",
       "    <tr style=\"text-align: right;\">\n",
       "      <th></th>\n",
       "      <th>price</th>\n",
       "    </tr>\n",
       "  </thead>\n",
       "  <tbody>\n",
       "    <tr>\n",
       "      <th>count</th>\n",
       "      <td>2,582.00</td>\n",
       "    </tr>\n",
       "    <tr>\n",
       "      <th>mean</th>\n",
       "      <td>77.43</td>\n",
       "    </tr>\n",
       "    <tr>\n",
       "      <th>std</th>\n",
       "      <td>151.86</td>\n",
       "    </tr>\n",
       "    <tr>\n",
       "      <th>min</th>\n",
       "      <td>2.50</td>\n",
       "    </tr>\n",
       "    <tr>\n",
       "      <th>25%</th>\n",
       "      <td>20.00</td>\n",
       "    </tr>\n",
       "    <tr>\n",
       "      <th>50%</th>\n",
       "      <td>29.75</td>\n",
       "    </tr>\n",
       "    <tr>\n",
       "      <th>75%</th>\n",
       "      <td>67.00</td>\n",
       "    </tr>\n",
       "    <tr>\n",
       "      <th>max</th>\n",
       "      <td>3,000.00</td>\n",
       "    </tr>\n",
       "  </tbody>\n",
       "</table>\n",
       "</div>"
      ],
      "text/plain": [
       "         price\n",
       "count 2,582.00\n",
       "mean     77.43\n",
       "std     151.86\n",
       "min       2.50\n",
       "25%      20.00\n",
       "50%      29.75\n",
       "75%      67.00\n",
       "max   3,000.00"
      ]
     },
     "execution_count": 9,
     "metadata": {},
     "output_type": "execute_result"
    }
   ],
   "source": [
    "df.describe(include=[float])"
   ]
  },
  {
   "cell_type": "code",
   "execution_count": 10,
   "metadata": {},
   "outputs": [
    {
     "data": {
      "text/html": [
       "<div>\n",
       "<style scoped>\n",
       "    .dataframe tbody tr th:only-of-type {\n",
       "        vertical-align: middle;\n",
       "    }\n",
       "\n",
       "    .dataframe tbody tr th {\n",
       "        vertical-align: top;\n",
       "    }\n",
       "\n",
       "    .dataframe thead th {\n",
       "        text-align: right;\n",
       "    }\n",
       "</style>\n",
       "<table border=\"1\" class=\"dataframe\">\n",
       "  <thead>\n",
       "    <tr style=\"text-align: right;\">\n",
       "      <th></th>\n",
       "      <th>location</th>\n",
       "      <th>mission_name</th>\n",
       "      <th>mission_status</th>\n",
       "      <th>organization</th>\n",
       "      <th>rocket_name</th>\n",
       "      <th>rocket_status</th>\n",
       "    </tr>\n",
       "  </thead>\n",
       "  <tbody>\n",
       "    <tr>\n",
       "      <th>count</th>\n",
       "      <td>6578</td>\n",
       "      <td>6578</td>\n",
       "      <td>6578</td>\n",
       "      <td>6578</td>\n",
       "      <td>6578</td>\n",
       "      <td>6578</td>\n",
       "    </tr>\n",
       "    <tr>\n",
       "      <th>unique</th>\n",
       "      <td>743</td>\n",
       "      <td>6525</td>\n",
       "      <td>4</td>\n",
       "      <td>64</td>\n",
       "      <td>434</td>\n",
       "      <td>2</td>\n",
       "    </tr>\n",
       "    <tr>\n",
       "      <th>top</th>\n",
       "      <td>Site 1/5, Baikonur Cosmodrome, Kazakhstan</td>\n",
       "      <td>Resurs-F</td>\n",
       "      <td>Success</td>\n",
       "      <td>RVSN USSR</td>\n",
       "      <td>Soyuz U</td>\n",
       "      <td>Retired</td>\n",
       "    </tr>\n",
       "    <tr>\n",
       "      <th>freq</th>\n",
       "      <td>483</td>\n",
       "      <td>20</td>\n",
       "      <td>6021</td>\n",
       "      <td>2464</td>\n",
       "      <td>778</td>\n",
       "      <td>5208</td>\n",
       "    </tr>\n",
       "  </tbody>\n",
       "</table>\n",
       "</div>"
      ],
      "text/plain": [
       "                                         location mission_name mission_status  \\\n",
       "count                                        6578         6578           6578   \n",
       "unique                                        743         6525              4   \n",
       "top     Site 1/5, Baikonur Cosmodrome, Kazakhstan     Resurs-F        Success   \n",
       "freq                                          483           20           6021   \n",
       "\n",
       "       organization rocket_name rocket_status  \n",
       "count          6578        6578          6578  \n",
       "unique           64         434             2  \n",
       "top       RVSN USSR     Soyuz U       Retired  \n",
       "freq           2464         778          5208  "
      ]
     },
     "execution_count": 10,
     "metadata": {},
     "output_type": "execute_result"
    }
   ],
   "source": [
    "df.describe(include=[datetime])"
   ]
  },
  {
   "cell_type": "markdown",
   "metadata": {
    "id": "cgCjcpeUkKPW"
   },
   "source": [
    "# Number of Launches per Company\n",
    "\n",
    "Create a chart that shows the number of space mission launches by organisation."
   ]
  },
  {
   "cell_type": "code",
   "execution_count": 14,
   "metadata": {
    "id": "rxvcIrtskxYB"
   },
   "outputs": [
    {
     "data": {
      "text/plain": [
       "array(['ISA', 'Roscosmos', 'NADA', 'Galactic Energy', 'SpaceX', 'CASC',\n",
       "       'Rocket Lab', 'ISRO', 'Virgin Galactic', 'ULA', 'MHI', 'Firefly',\n",
       "       'CASIC', 'Landspace', 'VKS RF', 'Northrop', 'KARI', 'CAS Space',\n",
       "       'ExPace', 'IAI', 'Arianespace', 'Space Pioneer', 'i-Space',\n",
       "       'Virgin Orbit', 'Blue Origin', 'Astra', 'Starsem', 'OneSpace',\n",
       "       'JAXA', 'ILS', 'Eurockot', 'Sea Launch', 'Kosmotras', 'KCST',\n",
       "       'NASA', 'Land Launch', 'Boeing', 'ISAS', 'MITT', 'SRC', 'Lockheed',\n",
       "       'Scaled', 'ESA', 'AEB', 'General Dynamics', 'Martin Marietta',\n",
       "       'US Air Force', 'RVSN USSR', 'Douglas', 'CNES', 'ASI', 'RAE',\n",
       "       'CECLES', 'UT', 'ABMA', 'OKB-586', \"Armée de l'Air\", 'US Navy',\n",
       "       'EER', 'Sandia', 'IRGC', 'GK LS', 'ABL SS', 'Relativity Space'],\n",
       "      dtype=object)"
      ]
     },
     "execution_count": 14,
     "metadata": {},
     "output_type": "execute_result"
    }
   ],
   "source": [
    "df['organization'].unique()"
   ]
  },
  {
   "cell_type": "code",
   "execution_count": 15,
   "metadata": {},
   "outputs": [
    {
     "data": {
      "text/plain": [
       "organization\n",
       "RVSN USSR           2464\n",
       "US Air Force         546\n",
       "CASC                 502\n",
       "Roscosmos            361\n",
       "VKS RF               337\n",
       "                    ... \n",
       "EER                    1\n",
       "Sandia                 1\n",
       "GK LS                  1\n",
       "ABL SS                 1\n",
       "Relativity Space       1\n",
       "Name: count, Length: 64, dtype: int64"
      ]
     },
     "execution_count": 15,
     "metadata": {},
     "output_type": "execute_result"
    }
   ],
   "source": [
    "df['organization'].value_counts()"
   ]
  },
  {
   "cell_type": "code",
   "execution_count": 17,
   "metadata": {},
   "outputs": [
    {
     "name": "stdout",
     "output_type": "stream",
     "text": [
      "Number of launches of NASA: 222\n",
      "Number of launches of ESA: 14\n",
      "Number of launches of JAXA: 8\n",
      "Number of launches of Roscosmos: 361\n",
      "Number of launches of SpaceX: 278\n"
     ]
    }
   ],
   "source": [
    "print(f\"Number of launches of NASA: {df['organization'].value_counts()['NASA']}\")\n",
    "print(f\"Number of launches of ESA: {df['organization'].value_counts()['ESA']}\")\n",
    "print(f\"Number of launches of JAXA: {df['organization'].value_counts()['JAXA']}\")\n",
    "print(f\"Number of launches of Roscosmos: {df['organization'].value_counts()['Roscosmos']}\")\n",
    "print(f\"Number of launches of SpaceX: {df['organization'].value_counts()['SpaceX']}\")"
   ]
  },
  {
   "cell_type": "code",
   "execution_count": 24,
   "metadata": {
    "id": "qgneHUbWkw5v"
   },
   "outputs": [
    {
     "data": {
      "text/plain": [
       "<Axes: xlabel='organization'>"
      ]
     },
     "execution_count": 24,
     "metadata": {},
     "output_type": "execute_result"
    },
    {
     "data": {
      "image/png": "[encoded data removed]",
      "text/plain": [
       "<Figure size 640x480 with 1 Axes>"
      ]
     },
     "metadata": {},
     "output_type": "display_data"
    }
   ],
   "source": [
    "df['organization'].value_counts().iloc[:20].plot(kind='bar')"
   ]
  },
  {
   "cell_type": "markdown",
   "metadata": {
    "id": "7Gwteht2kR_h"
   },
   "source": [
    "# Number of Active versus Retired Rockets\n",
    "\n",
    "How many rockets are active compared to those that are decomissioned? "
   ]
  },
  {
   "cell_type": "code",
   "execution_count": 32,
   "metadata": {
    "id": "ydj0-OZ6mToH"
   },
   "outputs": [
    {
     "data": {
      "text/plain": [
       "<Axes: title={'center': 'Rocket Status'}, ylabel='count'>"
      ]
     },
     "execution_count": 32,
     "metadata": {},
     "output_type": "execute_result"
    },
    {
     "data": {
      "image/png": "[encoded data removed]",
      "text/plain": [
       "<Figure size 640x480 with 1 Axes>"
      ]
     },
     "metadata": {},
     "output_type": "display_data"
    }
   ],
   "source": [
    "df['rocket_status'].value_counts().plot(kind='pie', autopct='%1.2f%%', title='Rocket Status')"
   ]
  },
  {
   "cell_type": "markdown",
   "metadata": {
    "id": "y9WtP5xWkYkp"
   },
   "source": [
    "# Distribution of Mission Status\n",
    "\n",
    "How many missions were successful?\n",
    "How many missions failed?"
   ]
  },
  {
   "cell_type": "code",
   "execution_count": 41,
   "metadata": {},
   "outputs": [
    {
     "data": {
      "text/plain": [
       "mission_status\n",
       "Success              6021\n",
       "Failure               440\n",
       "Partial Failure       112\n",
       "Prelaunch Failure       5\n",
       "Name: count, dtype: int64"
      ]
     },
     "execution_count": 41,
     "metadata": {},
     "output_type": "execute_result"
    }
   ],
   "source": [
    "df['mission_status'].unique()\n",
    "df['mission_status'].value_counts()"
   ]
  },
  {
   "cell_type": "code",
   "execution_count": 45,
   "metadata": {
    "id": "83kY1alqmUhb"
   },
   "outputs": [
    {
     "data": {
      "text/plain": [
       "<Axes: title={'center': 'Mission Outcome'}, ylabel='count'>"
      ]
     },
     "execution_count": 45,
     "metadata": {},
     "output_type": "execute_result"
    },
    {
     "data": {
      "image/png": "[encoded data removed]",
      "text/plain": [
       "<Figure size 640x480 with 1 Axes>"
      ]
     },
     "metadata": {},
     "output_type": "display_data"
    }
   ],
   "source": [
    "df['mission_status'].value_counts().iloc[:3].plot(kind='pie', \n",
    "                                                  autopct='%1.2f%%', \n",
    "                                                  title='Mission Outcome', \n",
    "                                                  textprops={'fontsize':8}, \n",
    "                                                  labeldistance=1.1\n",
    "                                                 )"
   ]
  },
  {
   "cell_type": "code",
   "execution_count": null,
   "metadata": {
    "id": "bdmXcaopmUeZ"
   },
   "outputs": [],
   "source": []
  },
  {
   "cell_type": "markdown",
   "metadata": {
    "id": "jgTCihuoa-qH",
    "papermill": {
     "duration": 0.03854,
     "end_time": "2020-10-20T21:34:05.968626",
     "exception": false,
     "start_time": "2020-10-20T21:34:05.930086",
     "status": "completed"
    },
    "tags": []
   },
   "source": [
    "# How Expensive are the Launches? \n",
    "\n",
    "Create a histogram and visualise the distribution. The price column is given in USD millions (careful of missing values). "
   ]
  },
  {
   "cell_type": "code",
   "execution_count": null,
   "metadata": {
    "id": "PLOMhzZFnSCO"
   },
   "outputs": [],
   "source": []
  },
  {
   "cell_type": "code",
   "execution_count": null,
   "metadata": {
    "id": "ru0IcY4nnSFU"
   },
   "outputs": [],
   "source": []
  },
  {
   "cell_type": "markdown",
   "metadata": {
    "id": "QiNtigQDne3E"
   },
   "source": [
    "# Use a Choropleth Map to Show the Number of Launches by Country\n",
    "\n",
    "* Create a choropleth map using [the plotly documentation](https://plotly.com/python/choropleth-maps/)\n",
    "* Experiment with [plotly's available colours](https://plotly.com/python/builtin-colorscales/). I quite like the sequential colour `matter` on this map. \n",
    "* You'll need to extract a `country` feature as well as change the country names that no longer exist.\n",
    "\n",
    "Wrangle the Country Names\n",
    "\n",
    "You'll need to use a 3 letter country code for each country. You might have to change some country names.\n",
    "\n",
    "* Russia is the Russian Federation\n",
    "* New Mexico should be USA\n",
    "* Yellow Sea refers to China\n",
    "* Shahrud Missile Test Site should be Iran\n",
    "* Pacific Missile Range Facility should be USA\n",
    "* Barents Sea should be Russian Federation\n",
    "* Gran Canaria should be USA\n",
    "\n",
    "\n",
    "You can use the iso3166 package to convert the country names to Alpha3 format."
   ]
  },
  {
   "cell_type": "code",
   "execution_count": null,
   "metadata": {
    "id": "Y46-4GHrozhF"
   },
   "outputs": [],
   "source": []
  },
  {
   "cell_type": "code",
   "execution_count": null,
   "metadata": {
    "id": "ESGRWiX6ozZG"
   },
   "outputs": [],
   "source": []
  },
  {
   "cell_type": "markdown",
   "metadata": {
    "id": "F3pwYSUlo_AK"
   },
   "source": [
    "# Use a Choropleth Map to Show the Number of Failures by Country\n"
   ]
  },
  {
   "cell_type": "code",
   "execution_count": null,
   "metadata": {
    "id": "8BH4ICtro9I0"
   },
   "outputs": [],
   "source": []
  },
  {
   "cell_type": "code",
   "execution_count": null,
   "metadata": {
    "id": "sfw-q7Obo9GM"
   },
   "outputs": [],
   "source": []
  },
  {
   "cell_type": "markdown",
   "metadata": {
    "id": "9LqcqSrKa-qN",
    "papermill": {
     "duration": 0.039343,
     "end_time": "2020-10-20T21:34:06.591694",
     "exception": false,
     "start_time": "2020-10-20T21:34:06.552351",
     "status": "completed"
    },
    "tags": []
   },
   "source": [
    "# Create a Plotly Sunburst Chart of the countries, organisations, and mission status. "
   ]
  },
  {
   "cell_type": "code",
   "execution_count": null,
   "metadata": {
    "id": "MwUfpoByo3_J"
   },
   "outputs": [],
   "source": []
  },
  {
   "cell_type": "code",
   "execution_count": null,
   "metadata": {
    "id": "-ZwZkx1ro4X9"
   },
   "outputs": [],
   "source": []
  },
  {
   "cell_type": "code",
   "execution_count": null,
   "metadata": {
    "id": "VfTGp2hLo4Ok"
   },
   "outputs": [],
   "source": []
  },
  {
   "cell_type": "markdown",
   "metadata": {
    "id": "70pG1BCZa-qY",
    "papermill": {
     "duration": 0.062712,
     "end_time": "2020-10-20T21:34:07.951200",
     "exception": false,
     "start_time": "2020-10-20T21:34:07.888488",
     "status": "completed"
    },
    "tags": []
   },
   "source": [
    "# Analyse the Total Amount of Money Spent by Organisation on Space Missions"
   ]
  },
  {
   "cell_type": "code",
   "execution_count": null,
   "metadata": {
    "id": "IaJYxwEVpKHy"
   },
   "outputs": [],
   "source": []
  },
  {
   "cell_type": "code",
   "execution_count": null,
   "metadata": {
    "id": "orIFf-appPDL"
   },
   "outputs": [],
   "source": []
  },
  {
   "cell_type": "code",
   "execution_count": null,
   "metadata": {
    "id": "86OMPfpEpO7R"
   },
   "outputs": [],
   "source": []
  },
  {
   "cell_type": "markdown",
   "metadata": {
    "id": "DpsWkPxzpPXs"
   },
   "source": [
    "# Analyse the Amount of Money Spent by Organisation per Launch"
   ]
  },
  {
   "cell_type": "code",
   "execution_count": null,
   "metadata": {
    "id": "opYJ6GiRpTk5"
   },
   "outputs": [],
   "source": []
  },
  {
   "cell_type": "code",
   "execution_count": null,
   "metadata": {
    "id": "VEkHzAk2pTvj"
   },
   "outputs": [],
   "source": []
  },
  {
   "cell_type": "code",
   "execution_count": null,
   "metadata": {
    "id": "R5rFf501pKXD"
   },
   "outputs": [],
   "source": []
  },
  {
   "cell_type": "markdown",
   "metadata": {
    "id": "yRa1BbPoa-qf",
    "papermill": {
     "duration": 0.042662,
     "end_time": "2020-10-20T21:34:09.943196",
     "exception": false,
     "start_time": "2020-10-20T21:34:09.900534",
     "status": "completed"
    },
    "tags": []
   },
   "source": [
    "# Chart the Number of Launches per Year"
   ]
  },
  {
   "cell_type": "code",
   "execution_count": null,
   "metadata": {
    "id": "_9FohVh3pcAJ"
   },
   "outputs": [],
   "source": []
  },
  {
   "cell_type": "code",
   "execution_count": null,
   "metadata": {
    "id": "b2pggcZBpb4x"
   },
   "outputs": [],
   "source": []
  },
  {
   "cell_type": "markdown",
   "metadata": {
    "id": "NomJVLi3tIaM"
   },
   "source": [
    "# Chart the Number of Launches Month-on-Month until the Present\n",
    "\n",
    "Which month has seen the highest number of launches in all time? Superimpose a rolling average on the month on month time series chart. "
   ]
  },
  {
   "cell_type": "code",
   "execution_count": null,
   "metadata": {
    "id": "H1N2aBs5tH9z"
   },
   "outputs": [],
   "source": []
  },
  {
   "cell_type": "code",
   "execution_count": null,
   "metadata": {
    "id": "pfw0aX1lpdRv"
   },
   "outputs": [],
   "source": []
  },
  {
   "cell_type": "markdown",
   "metadata": {
    "id": "t-avMIZoa-qh",
    "papermill": {
     "duration": 0.044409,
     "end_time": "2020-10-20T21:34:10.162592",
     "exception": false,
     "start_time": "2020-10-20T21:34:10.118183",
     "status": "completed"
    },
    "tags": []
   },
   "source": [
    "# Launches per Month: Which months are most popular and least popular for launches?\n",
    "\n",
    "Some months have better weather than others. Which time of year seems to be best for space missions?"
   ]
  },
  {
   "cell_type": "code",
   "execution_count": null,
   "metadata": {
    "id": "zmtp5uBHppFG"
   },
   "outputs": [],
   "source": []
  },
  {
   "cell_type": "code",
   "execution_count": null,
   "metadata": {
    "id": "fnk2m_cpppJo"
   },
   "outputs": [],
   "source": []
  },
  {
   "cell_type": "markdown",
   "metadata": {
    "id": "dPQ_N_sfa-qo",
    "papermill": {
     "duration": 0.067915,
     "end_time": "2020-10-20T21:34:11.122539",
     "exception": false,
     "start_time": "2020-10-20T21:34:11.054624",
     "status": "completed"
    },
    "tags": []
   },
   "source": [
    "# How has the Launch Price varied Over Time? \n",
    "\n",
    "Create a line chart that shows the average price of rocket launches over time. "
   ]
  },
  {
   "cell_type": "code",
   "execution_count": null,
   "metadata": {
    "id": "hFc-2M5-qCrv"
   },
   "outputs": [],
   "source": []
  },
  {
   "cell_type": "code",
   "execution_count": null,
   "metadata": {
    "id": "ggYFiAsEqC6J"
   },
   "outputs": [],
   "source": []
  },
  {
   "cell_type": "markdown",
   "metadata": {
    "id": "8OYrWyiOa-qs",
    "papermill": {
     "duration": 0.047152,
     "end_time": "2020-10-20T21:34:11.681371",
     "exception": false,
     "start_time": "2020-10-20T21:34:11.634219",
     "status": "completed"
    },
    "tags": []
   },
   "source": [
    "# Chart the Number of Launches over Time by the Top 10 Organisations. \n",
    "\n",
    "How has the dominance of launches changed over time between the different players? "
   ]
  },
  {
   "cell_type": "code",
   "execution_count": null,
   "metadata": {
    "id": "RcsrPPpAqVFj"
   },
   "outputs": [],
   "source": []
  },
  {
   "cell_type": "code",
   "execution_count": null,
   "metadata": {
    "id": "1IgfafiyqWEe"
   },
   "outputs": [],
   "source": []
  },
  {
   "cell_type": "code",
   "execution_count": null,
   "metadata": {
    "id": "akCDKT8CqVjG"
   },
   "outputs": [],
   "source": []
  },
  {
   "cell_type": "markdown",
   "metadata": {
    "id": "6Cm8_ch6a-q7",
    "papermill": {
     "duration": 0.052399,
     "end_time": "2020-10-20T21:34:13.756781",
     "exception": false,
     "start_time": "2020-10-20T21:34:13.704382",
     "status": "completed"
    },
    "tags": []
   },
   "source": [
    "# Cold War Space Race: USA vs USSR\n",
    "\n",
    "The cold war lasted from the start of the dataset up until 1991. "
   ]
  },
  {
   "cell_type": "code",
   "execution_count": null,
   "metadata": {
    "id": "AcE_U8csrICL"
   },
   "outputs": [],
   "source": []
  },
  {
   "cell_type": "code",
   "execution_count": null,
   "metadata": {
    "id": "cOe_t4OmrHr9"
   },
   "outputs": [],
   "source": []
  },
  {
   "cell_type": "markdown",
   "metadata": {
    "id": "Os-3A5vLa-q9",
    "papermill": {
     "duration": 0.054318,
     "end_time": "2020-10-20T21:34:14.089604",
     "exception": false,
     "start_time": "2020-10-20T21:34:14.035286",
     "status": "completed"
    },
    "tags": []
   },
   "source": [
    "## Create a Plotly Pie Chart comparing the total number of launches of the USSR and the USA\n",
    "\n",
    "Hint: Remember to include former Soviet Republics like Kazakhstan when analysing the total number of launches. "
   ]
  },
  {
   "cell_type": "code",
   "execution_count": null,
   "metadata": {
    "id": "1irc6_W9rD59"
   },
   "outputs": [],
   "source": []
  },
  {
   "cell_type": "code",
   "execution_count": null,
   "metadata": {
    "id": "OhhuLQycrEE-"
   },
   "outputs": [],
   "source": []
  },
  {
   "cell_type": "markdown",
   "metadata": {
    "id": "0C29Zz4xa-rA",
    "papermill": {
     "duration": 0.052921,
     "end_time": "2020-10-20T21:34:14.340085",
     "exception": false,
     "start_time": "2020-10-20T21:34:14.287164",
     "status": "completed"
    },
    "tags": []
   },
   "source": [
    "## Create a Chart that Shows the Total Number of Launches Year-On-Year by the Two Superpowers"
   ]
  },
  {
   "cell_type": "code",
   "execution_count": null,
   "metadata": {
    "id": "9ISKvOiCrS73"
   },
   "outputs": [],
   "source": []
  },
  {
   "cell_type": "code",
   "execution_count": null,
   "metadata": {
    "id": "oCc7VTzGrTK-"
   },
   "outputs": [],
   "source": []
  },
  {
   "cell_type": "markdown",
   "metadata": {
    "id": "eWv4iZmra-rE",
    "papermill": {
     "duration": 0.079311,
     "end_time": "2020-10-20T21:34:14.933058",
     "exception": false,
     "start_time": "2020-10-20T21:34:14.853747",
     "status": "completed"
    },
    "tags": []
   },
   "source": [
    "## Chart the Total Number of Mission Failures Year on Year."
   ]
  },
  {
   "cell_type": "code",
   "execution_count": null,
   "metadata": {
    "id": "I-Zss5-Mre-4"
   },
   "outputs": [],
   "source": []
  },
  {
   "cell_type": "code",
   "execution_count": null,
   "metadata": {
    "id": "7Ps9Iq_crfYl"
   },
   "outputs": [],
   "source": []
  },
  {
   "cell_type": "markdown",
   "metadata": {
    "id": "XNp-NkrJriEF"
   },
   "source": [
    "## Chart the Percentage of Failures over Time\n",
    "\n",
    "Did failures go up or down over time? Did the countries get better at minimising risk and improving their chances of success over time? "
   ]
  },
  {
   "cell_type": "code",
   "execution_count": null,
   "metadata": {
    "id": "Kj3-zsI0rhOS"
   },
   "outputs": [],
   "source": []
  },
  {
   "cell_type": "code",
   "execution_count": null,
   "metadata": {
    "id": "nxnnzx89rwvH"
   },
   "outputs": [],
   "source": []
  },
  {
   "cell_type": "code",
   "execution_count": null,
   "metadata": {
    "id": "_TPWaaJ5r1Fz"
   },
   "outputs": [],
   "source": []
  },
  {
   "cell_type": "markdown",
   "metadata": {
    "id": "S5aOC7bGr2OX"
   },
   "source": [
    "# For Every Year Show which Country was in the Lead in terms of Total Number of Launches up to and including including 2020)\n",
    "\n",
    "Do the results change if we only look at the number of successful launches? "
   ]
  },
  {
   "cell_type": "code",
   "execution_count": null,
   "metadata": {
    "id": "_h0grIXKsOz_"
   },
   "outputs": [],
   "source": []
  },
  {
   "cell_type": "code",
   "execution_count": null,
   "metadata": {
    "id": "zgVysedmsOp4"
   },
   "outputs": [],
   "source": []
  },
  {
   "cell_type": "markdown",
   "metadata": {
    "id": "jQcqBfJ8serG"
   },
   "source": [
    "# Create a Year-on-Year Chart Showing the Organisation Doing the Most Number of Launches\n",
    "\n",
    "Which organisation was dominant in the 1970s and 1980s? Which organisation was dominant in 2018, 2019 and 2020? "
   ]
  },
  {
   "cell_type": "code",
   "execution_count": null,
   "metadata": {
    "id": "jc9ImQEWsztG"
   },
   "outputs": [],
   "source": []
  },
  {
   "cell_type": "code",
   "execution_count": null,
   "metadata": {
    "id": "r5frxzwlsz5W"
   },
   "outputs": [],
   "source": []
  },
  {
   "cell_type": "code",
   "execution_count": null,
   "metadata": {
    "id": "8vHKpuc5a-rc",
    "papermill": {
     "duration": 0.092403,
     "end_time": "2020-10-20T21:34:26.709168",
     "exception": false,
     "start_time": "2020-10-20T21:34:26.616765",
     "status": "completed"
    },
    "tags": []
   },
   "outputs": [],
   "source": []
  }
 ],
 "metadata": {
  "colab": {
   "name": "Space Missions Analysis (start).ipynb",
   "provenance": []
  },
  "kernelspec": {
   "display_name": "Python 3 (ipykernel)",
   "language": "python",
   "name": "python3"
  },
  "language_info": {
   "codemirror_mode": {
    "name": "ipython",
    "version": 3
   },
   "file_extension": ".py",
   "mimetype": "text/x-python",
   "name": "python",
   "nbconvert_exporter": "python",
   "pygments_lexer": "ipython3",
   "version": "3.10.4"
  },
  "papermill": {
   "duration": 28.468597,
   "end_time": "2020-10-20T21:34:26.910951",
   "environment_variables": {},
   "exception": null,
   "input_path": "__notebook__.ipynb",
   "output_path": "__notebook__.ipynb",
   "parameters": {},
   "start_time": "2020-10-20T21:33:58.442354",
   "version": "2.1.0"
  }
 },
 "nbformat": 4,
 "nbformat_minor": 4
}
